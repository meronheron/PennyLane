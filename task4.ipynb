{
 "cells": [
  {
   "cell_type": "code",
   "execution_count": 1,
   "id": "b5d9f728",
   "metadata": {},
   "outputs": [],
   "source": [
    "%matplotlib inline\n",
    "import matplotlib.pyplot as plt\n",
    "import pennylane as qml\n",
    "from pennylane import numpy as np"
   ]
  },
  {
   "cell_type": "code",
   "execution_count": 2,
   "id": "e109e70a",
   "metadata": {},
   "outputs": [],
   "source": [
    "dev = qml.device(\"default.qubit\", wires=1)"
   ]
  },
  {
   "cell_type": "code",
   "execution_count": 3,
   "id": "e2c32c44",
   "metadata": {},
   "outputs": [],
   "source": [
    "@qml.qnode(dev)\n",
    "def circuit4(theta):\n",
    "    qml.RX(theta, wires=0) \n",
    "    return qml.expval(qml.PauliZ(0))    "
   ]
  },
  {
   "cell_type": "code",
   "execution_count": 8,
   "id": "c9742739",
   "metadata": {},
   "outputs": [],
   "source": [
    "def cost(theta):\n",
    "    return circuit4(theta)\n",
    "theta = np.array(0.5, requires_grad=True)"
   ]
  },
  {
   "cell_type": "code",
   "execution_count": 9,
   "id": "1e0b3f68",
   "metadata": {},
   "outputs": [],
   "source": [
    "opt= qml.GradientDescentOptimizer(stepsize=0.2)\n",
    "steps=50\n",
    "costs = []"
   ]
  },
  {
   "cell_type": "code",
   "execution_count": 10,
   "id": "7b0cf910",
   "metadata": {},
   "outputs": [
    {
     "name": "stdout",
     "output_type": "stream",
     "text": [
      "Step 1: Cost = 0.8776, Theta = 0.5959\n",
      "Step 2: Cost = 0.8277, Theta = 0.7081\n",
      "Step 3: Cost = 0.7596, Theta = 0.8382\n",
      "Step 4: Cost = 0.6688, Theta = 0.9869\n",
      "Step 5: Cost = 0.5513, Theta = 1.1538\n",
      "Step 6: Cost = 0.4050, Theta = 1.3366\n",
      "Step 7: Cost = 0.2320, Theta = 1.5312\n",
      "Step 8: Cost = 0.0396, Theta = 1.7310\n",
      "Step 9: Cost = -0.1595, Theta = 1.9285\n",
      "Step 10: Cost = -0.3501, Theta = 2.1158\n",
      "Step 11: Cost = -0.5184, Theta = 2.2868\n",
      "Step 12: Cost = -0.6564, Theta = 2.4377\n",
      "Step 13: Cost = -0.7623, Theta = 2.5671\n",
      "Step 14: Cost = -0.8395, Theta = 2.6758\n",
      "Step 15: Cost = -0.8935, Theta = 2.7656\n",
      "Step 16: Cost = -0.9302, Theta = 2.8391\n",
      "Step 17: Cost = -0.9546, Theta = 2.8987\n",
      "Step 18: Cost = -0.9706, Theta = 2.9468\n",
      "Step 19: Cost = -0.9811, Theta = 2.9855\n",
      "Step 20: Cost = -0.9878, Theta = 3.0166\n",
      "Step 21: Cost = -0.9922, Theta = 3.0415\n",
      "Step 22: Cost = -0.9950, Theta = 3.0615\n",
      "Step 23: Cost = -0.9968, Theta = 3.0775\n",
      "Step 24: Cost = -0.9979, Theta = 3.0903\n",
      "Step 25: Cost = -0.9987, Theta = 3.1006\n",
      "Step 26: Cost = -0.9992, Theta = 3.1088\n",
      "Step 27: Cost = -0.9995, Theta = 3.1153\n",
      "Step 28: Cost = -0.9997, Theta = 3.1206\n",
      "Step 29: Cost = -0.9998, Theta = 3.1248\n",
      "Step 30: Cost = -0.9999, Theta = 3.1281\n",
      "Step 31: Cost = -0.9999, Theta = 3.1308\n",
      "Step 32: Cost = -0.9999, Theta = 3.1330\n",
      "Step 33: Cost = -1.0000, Theta = 3.1347\n",
      "Step 34: Cost = -1.0000, Theta = 3.1361\n",
      "Step 35: Cost = -1.0000, Theta = 3.1372\n",
      "Step 36: Cost = -1.0000, Theta = 3.1381\n",
      "Step 37: Cost = -1.0000, Theta = 3.1388\n",
      "Step 38: Cost = -1.0000, Theta = 3.1393\n",
      "Step 39: Cost = -1.0000, Theta = 3.1398\n",
      "Step 40: Cost = -1.0000, Theta = 3.1401\n",
      "Step 41: Cost = -1.0000, Theta = 3.1404\n",
      "Step 42: Cost = -1.0000, Theta = 3.1407\n",
      "Step 43: Cost = -1.0000, Theta = 3.1409\n",
      "Step 44: Cost = -1.0000, Theta = 3.1410\n",
      "Step 45: Cost = -1.0000, Theta = 3.1411\n",
      "Step 46: Cost = -1.0000, Theta = 3.1412\n",
      "Step 47: Cost = -1.0000, Theta = 3.1413\n",
      "Step 48: Cost = -1.0000, Theta = 3.1414\n",
      "Step 49: Cost = -1.0000, Theta = 3.1414\n",
      "Step 50: Cost = -1.0000, Theta = 3.1414\n"
     ]
    }
   ],
   "source": [
    "for i in range(steps):\n",
    "    theta, curr_cost = opt.step_and_cost(cost, theta)\n",
    "    costs.append(curr_cost)\n",
    "    print(f\"Step {i+1}: Cost = {curr_cost:.4f}, Theta = {theta:.4f}\")"
   ]
  },
  {
   "cell_type": "code",
   "execution_count": 11,
   "id": "f3485396",
   "metadata": {},
   "outputs": [
    {
     "name": "stdout",
     "output_type": "stream",
     "text": [
      "\n",
      "Optimal theta: 3.1414\n"
     ]
    }
   ],
   "source": [
    "print(f\"\\nOptimal theta: {theta:.4f}\")"
   ]
  }
 ],
 "metadata": {
  "kernelspec": {
   "display_name": "plenv",
   "language": "python",
   "name": "python3"
  },
  "language_info": {
   "codemirror_mode": {
    "name": "ipython",
    "version": 3
   },
   "file_extension": ".py",
   "mimetype": "text/x-python",
   "name": "python",
   "nbconvert_exporter": "python",
   "pygments_lexer": "ipython3",
   "version": "3.12.10"
  }
 },
 "nbformat": 4,
 "nbformat_minor": 5
}
