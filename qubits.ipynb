{
 "cells": [
  {
   "cell_type": "code",
   "execution_count": null,
   "id": "f3b7ad81",
   "metadata": {},
   "outputs": [],
   "source": [
    "import pennylane as qml\n",
    "import matplotlib.pyplot as plt"
   ]
  },
  {
   "cell_type": "code",
   "execution_count": 10,
   "id": "7ee75f1d",
   "metadata": {},
   "outputs": [],
   "source": [
    "\n",
    "dev = qml.device(\"default.qubit\", wires=2)\n",
    "\n",
    "def circuit():\n",
    "    qml.Hadamard(wires=0)\n",
    "    qml.CNOT(wires=[0, 1])\n",
    "@qml.qnode(dev)\n",
    "def probs():\n",
    "    circuit()\n",
    "    return qml.probs(wires=[0, 1])\n",
    "@qml.qnode(dev)\n",
    "def sv():\n",
    "    circuit()\n",
    "    return qml.state()\n"
   ]
  },
  {
   "cell_type": "code",
   "execution_count": 11,
   "id": "01f957f8",
   "metadata": {},
   "outputs": [
    {
     "name": "stdout",
     "output_type": "stream",
     "text": [
      "Probabilities: [0.5 0.  0.  0.5]\n"
     ]
    }
   ],
   "source": [
    "print(\"Probabilities:\", probs())"
   ]
  },
  {
   "cell_type": "code",
   "execution_count": 12,
   "id": "3c07e809",
   "metadata": {},
   "outputs": [
    {
     "name": "stdout",
     "output_type": "stream",
     "text": [
      "State vector: [0.70710678+0.j 0.        +0.j 0.        +0.j 0.70710678+0.j]\n"
     ]
    }
   ],
   "source": [
    "print(\"State vector:\", sv())"
   ]
  },
  {
   "cell_type": "code",
   "execution_count": 20,
   "id": "6970226b",
   "metadata": {},
   "outputs": [
    {
     "ename": "ImportError",
     "evalue": "Module matplotlib is required for ``MPLDrawer`` class. You can install matplotlib via \n\n   pip install matplotlib",
     "output_type": "error",
     "traceback": [
      "\u001b[31m---------------------------------------------------------------------------\u001b[39m",
      "\u001b[31mImportError\u001b[39m                               Traceback (most recent call last)",
      "\u001b[36mCell\u001b[39m\u001b[36m \u001b[39m\u001b[32mIn[20]\u001b[39m\u001b[32m, line 1\u001b[39m\n\u001b[32m----> \u001b[39m\u001b[32m1\u001b[39m fig, ax = \u001b[43mqml\u001b[49m\u001b[43m.\u001b[49m\u001b[43mdraw_mpl\u001b[49m\u001b[43m(\u001b[49m\u001b[43msv\u001b[49m\u001b[43m)\u001b[49m\u001b[43m(\u001b[49m\u001b[43m)\u001b[49m\n\u001b[32m      2\u001b[39m plt.show()\n",
      "\u001b[36mFile \u001b[39m\u001b[32mc:\\Users\\hp\\Desktop\\Training\\PennyLane\\plenv\\Lib\\site-packages\\pennylane\\drawer\\draw.py:762\u001b[39m, in \u001b[36m_draw_mpl_qnode.<locals>.wrapper\u001b[39m\u001b[34m(*args, **kwargs_qnode)\u001b[39m\n\u001b[32m    759\u001b[39m     \u001b[38;5;28;01mexcept\u001b[39;00m \u001b[38;5;167;01mTypeError\u001b[39;00m:\n\u001b[32m    760\u001b[39m         _wire_order = tape.wires\n\u001b[32m--> \u001b[39m\u001b[32m762\u001b[39m \u001b[38;5;28;01mreturn\u001b[39;00m \u001b[43mtape_mpl\u001b[49m\u001b[43m(\u001b[49m\n\u001b[32m    763\u001b[39m \u001b[43m    \u001b[49m\u001b[43mtape\u001b[49m\u001b[43m,\u001b[49m\n\u001b[32m    764\u001b[39m \u001b[43m    \u001b[49m\u001b[43mwire_order\u001b[49m\u001b[43m=\u001b[49m\u001b[43m_wire_order\u001b[49m\u001b[43m,\u001b[49m\n\u001b[32m    765\u001b[39m \u001b[43m    \u001b[49m\u001b[43mshow_all_wires\u001b[49m\u001b[43m=\u001b[49m\u001b[43mshow_all_wires\u001b[49m\u001b[43m,\u001b[49m\n\u001b[32m    766\u001b[39m \u001b[43m    \u001b[49m\u001b[43mdecimals\u001b[49m\u001b[43m=\u001b[49m\u001b[43mdecimals\u001b[49m\u001b[43m,\u001b[49m\n\u001b[32m    767\u001b[39m \u001b[43m    \u001b[49m\u001b[43mstyle\u001b[49m\u001b[43m=\u001b[49m\u001b[43mstyle\u001b[49m\u001b[43m,\u001b[49m\n\u001b[32m    768\u001b[39m \u001b[43m    \u001b[49m\u001b[43mfig\u001b[49m\u001b[43m=\u001b[49m\u001b[43mfig\u001b[49m\u001b[43m,\u001b[49m\n\u001b[32m    769\u001b[39m \u001b[43m    \u001b[49m\u001b[43m*\u001b[49m\u001b[43m*\u001b[49m\u001b[43mkwargs\u001b[49m\u001b[43m,\u001b[49m\n\u001b[32m    770\u001b[39m \u001b[43m\u001b[49m\u001b[43m)\u001b[49m\n",
      "\u001b[36mFile \u001b[39m\u001b[32mc:\\Users\\hp\\Desktop\\Training\\PennyLane\\plenv\\Lib\\site-packages\\pennylane\\drawer\\tape_mpl.py:538\u001b[39m, in \u001b[36mtape_mpl\u001b[39m\u001b[34m(tape, wire_order, show_all_wires, decimals, style, fig, max_length, **kwargs)\u001b[39m\n\u001b[32m    535\u001b[39m     _set_style(style)\n\u001b[32m    537\u001b[39m \u001b[38;5;28;01mtry\u001b[39;00m:\n\u001b[32m--> \u001b[39m\u001b[32m538\u001b[39m     \u001b[38;5;28;01mreturn\u001b[39;00m \u001b[43m_tape_mpl\u001b[49m\u001b[43m(\u001b[49m\n\u001b[32m    539\u001b[39m \u001b[43m        \u001b[49m\u001b[43mtape\u001b[49m\u001b[43m,\u001b[49m\n\u001b[32m    540\u001b[39m \u001b[43m        \u001b[49m\u001b[43mwire_order\u001b[49m\u001b[43m=\u001b[49m\u001b[43mwire_order\u001b[49m\u001b[43m,\u001b[49m\n\u001b[32m    541\u001b[39m \u001b[43m        \u001b[49m\u001b[43mshow_all_wires\u001b[49m\u001b[43m=\u001b[49m\u001b[43mshow_all_wires\u001b[49m\u001b[43m,\u001b[49m\n\u001b[32m    542\u001b[39m \u001b[43m        \u001b[49m\u001b[43mdecimals\u001b[49m\u001b[43m=\u001b[49m\u001b[43mdecimals\u001b[49m\u001b[43m,\u001b[49m\n\u001b[32m    543\u001b[39m \u001b[43m        \u001b[49m\u001b[43mfig\u001b[49m\u001b[43m=\u001b[49m\u001b[43mfig\u001b[49m\u001b[43m,\u001b[49m\n\u001b[32m    544\u001b[39m \u001b[43m        \u001b[49m\u001b[43mmax_length\u001b[49m\u001b[43m=\u001b[49m\u001b[43mmax_length\u001b[49m\u001b[43m,\u001b[49m\n\u001b[32m    545\u001b[39m \u001b[43m        \u001b[49m\u001b[43m*\u001b[49m\u001b[43m*\u001b[49m\u001b[43mkwargs\u001b[49m\u001b[43m,\u001b[49m\n\u001b[32m    546\u001b[39m \u001b[43m    \u001b[49m\u001b[43m)\u001b[49m\n\u001b[32m    547\u001b[39m \u001b[38;5;28;01mfinally\u001b[39;00m:\n\u001b[32m    548\u001b[39m     \u001b[38;5;28;01mif\u001b[39;00m update_style:\n\u001b[32m    549\u001b[39m         \u001b[38;5;66;03m# we don't want to mess with how it modifies whether the interface is interactive\u001b[39;00m\n\u001b[32m    550\u001b[39m         \u001b[38;5;66;03m# but we want to restore everything else\u001b[39;00m\n",
      "\u001b[36mFile \u001b[39m\u001b[32mc:\\Users\\hp\\Desktop\\Training\\PennyLane\\plenv\\Lib\\site-packages\\pennylane\\drawer\\tape_mpl.py:307\u001b[39m, in \u001b[36m_tape_mpl\u001b[39m\u001b[34m(tape, wire_order, show_all_wires, max_length, **kwargs)\u001b[39m\n\u001b[32m    298\u001b[39m config = _Config(\n\u001b[32m    299\u001b[39m     decimals=kwargs.get(\u001b[33m\"\u001b[39m\u001b[33mdecimals\u001b[39m\u001b[33m\"\u001b[39m, \u001b[38;5;28;01mNone\u001b[39;00m),\n\u001b[32m    300\u001b[39m     active_wire_notches=kwargs.get(\u001b[33m\"\u001b[39m\u001b[33mactive_wire_notches\u001b[39m\u001b[33m\"\u001b[39m, \u001b[38;5;28;01mTrue\u001b[39;00m),\n\u001b[32m   (...)\u001b[39m\u001b[32m    303\u001b[39m     cwire_wires=cwire_wires,\n\u001b[32m    304\u001b[39m )\n\u001b[32m    306\u001b[39m \u001b[38;5;28;01mif\u001b[39;00m max_length \u001b[38;5;129;01mis\u001b[39;00m \u001b[38;5;28;01mNone\u001b[39;00m:\n\u001b[32m--> \u001b[39m\u001b[32m307\u001b[39m     \u001b[38;5;28;01mreturn\u001b[39;00m \u001b[43m_draw_layers\u001b[49m\u001b[43m(\u001b[49m\u001b[43mlayers\u001b[49m\u001b[43m,\u001b[49m\u001b[43m \u001b[49m\u001b[43mtape\u001b[49m\u001b[43m.\u001b[49m\u001b[43mmeasurements\u001b[49m\u001b[43m,\u001b[49m\u001b[43m \u001b[49m\u001b[43mconfig\u001b[49m\u001b[43m=\u001b[49m\u001b[43mconfig\u001b[49m\u001b[43m,\u001b[49m\u001b[43m \u001b[49m\u001b[43mwire_map\u001b[49m\u001b[43m=\u001b[49m\u001b[43mwire_map\u001b[49m\u001b[43m,\u001b[49m\u001b[43m \u001b[49m\u001b[43m*\u001b[49m\u001b[43m*\u001b[49m\u001b[43mkwargs\u001b[49m\u001b[43m)\u001b[49m\n\u001b[32m    309\u001b[39m layer_count = \u001b[38;5;28mlen\u001b[39m(layers)\n\u001b[32m    310\u001b[39m \u001b[38;5;28;01mreturn\u001b[39;00m [\n\u001b[32m    311\u001b[39m     _draw_layers(\n\u001b[32m    312\u001b[39m         layers=layers[i : i + max_length],\n\u001b[32m   (...)\u001b[39m\u001b[32m    319\u001b[39m     \u001b[38;5;28;01mfor\u001b[39;00m i \u001b[38;5;129;01min\u001b[39;00m \u001b[38;5;28mrange\u001b[39m(\u001b[32m0\u001b[39m, layer_count, max_length)\n\u001b[32m    320\u001b[39m ]\n",
      "\u001b[36mFile \u001b[39m\u001b[32mc:\\Users\\hp\\Desktop\\Training\\PennyLane\\plenv\\Lib\\site-packages\\pennylane\\drawer\\tape_mpl.py:228\u001b[39m, in \u001b[36m_draw_layers\u001b[39m\u001b[34m(layers, measurements, wire_map, config, starting_dots, **kwargs)\u001b[39m\n\u001b[32m    225\u001b[39m n_layers = \u001b[38;5;28mlen\u001b[39m(layers)\n\u001b[32m    226\u001b[39m n_wires = \u001b[38;5;28mlen\u001b[39m(wire_map)\n\u001b[32m--> \u001b[39m\u001b[32m228\u001b[39m drawer = \u001b[43mMPLDrawer\u001b[49m\u001b[43m(\u001b[49m\n\u001b[32m    229\u001b[39m \u001b[43m    \u001b[49m\u001b[43mn_layers\u001b[49m\u001b[43m=\u001b[49m\u001b[43mn_layers\u001b[49m\u001b[43m,\u001b[49m\n\u001b[32m    230\u001b[39m \u001b[43m    \u001b[49m\u001b[43mwire_map\u001b[49m\u001b[43m=\u001b[49m\u001b[43mwire_map\u001b[49m\u001b[43m,\u001b[49m\n\u001b[32m    231\u001b[39m \u001b[43m    \u001b[49m\u001b[43mc_wires\u001b[49m\u001b[43m=\u001b[49m\u001b[38;5;28;43mlen\u001b[39;49m\u001b[43m(\u001b[49m\u001b[43mconfig\u001b[49m\u001b[43m.\u001b[49m\u001b[43mbit_map\u001b[49m\u001b[43m)\u001b[49m\u001b[43m,\u001b[49m\n\u001b[32m    232\u001b[39m \u001b[43m    \u001b[49m\u001b[43mwire_options\u001b[49m\u001b[43m=\u001b[49m\u001b[43mkwargs\u001b[49m\u001b[43m.\u001b[49m\u001b[43mget\u001b[49m\u001b[43m(\u001b[49m\u001b[33;43m\"\u001b[39;49m\u001b[33;43mwire_options\u001b[39;49m\u001b[33;43m\"\u001b[39;49m\u001b[43m,\u001b[49m\u001b[43m \u001b[49m\u001b[38;5;28;43;01mNone\u001b[39;49;00m\u001b[43m)\u001b[49m\u001b[43m,\u001b[49m\n\u001b[32m    233\u001b[39m \u001b[43m    \u001b[49m\u001b[43mfig\u001b[49m\u001b[43m=\u001b[49m\u001b[43mkwargs\u001b[49m\u001b[43m.\u001b[49m\u001b[43mget\u001b[49m\u001b[43m(\u001b[49m\u001b[33;43m\"\u001b[39;49m\u001b[33;43mfig\u001b[39;49m\u001b[33;43m\"\u001b[39;49m\u001b[43m,\u001b[49m\u001b[43m \u001b[49m\u001b[38;5;28;43;01mNone\u001b[39;49;00m\u001b[43m)\u001b[49m\u001b[43m,\u001b[49m\n\u001b[32m    234\u001b[39m \u001b[43m    \u001b[49m\u001b[43mstarting_dots\u001b[49m\u001b[43m=\u001b[49m\u001b[43mstarting_dots\u001b[49m\u001b[43m,\u001b[49m\n\u001b[32m    235\u001b[39m \u001b[43m\u001b[49m\u001b[43m)\u001b[49m\n\u001b[32m    237\u001b[39m \u001b[38;5;28;01mif\u001b[39;00m n_wires == \u001b[32m0\u001b[39m:\n\u001b[32m    238\u001b[39m     \u001b[38;5;28;01mreturn\u001b[39;00m drawer.fig, drawer.ax\n",
      "\u001b[36mFile \u001b[39m\u001b[32mc:\\Users\\hp\\Desktop\\Training\\PennyLane\\plenv\\Lib\\site-packages\\pennylane\\drawer\\mpldrawer.py:274\u001b[39m, in \u001b[36mMPLDrawer.__init__\u001b[39m\u001b[34m(self, n_layers, wire_map, c_wires, wire_options, figsize, fig, starting_dots)\u001b[39m\n\u001b[32m    262\u001b[39m \u001b[38;5;28;01mdef\u001b[39;00m\u001b[38;5;250m \u001b[39m\u001b[34m__init__\u001b[39m(\n\u001b[32m    263\u001b[39m     \u001b[38;5;28mself\u001b[39m,\n\u001b[32m    264\u001b[39m     n_layers,\n\u001b[32m   (...)\u001b[39m\u001b[32m    271\u001b[39m     starting_dots: \u001b[38;5;28mbool\u001b[39m = \u001b[38;5;28;01mFalse\u001b[39;00m,\n\u001b[32m    272\u001b[39m ):\n\u001b[32m    273\u001b[39m     \u001b[38;5;28;01mif\u001b[39;00m \u001b[38;5;129;01mnot\u001b[39;00m has_mpl:  \u001b[38;5;66;03m# pragma: no cover\u001b[39;00m\n\u001b[32m--> \u001b[39m\u001b[32m274\u001b[39m         \u001b[38;5;28;01mraise\u001b[39;00m \u001b[38;5;167;01mImportError\u001b[39;00m(\n\u001b[32m    275\u001b[39m             \u001b[33m\"\u001b[39m\u001b[33mModule matplotlib is required for ``MPLDrawer`` class. \u001b[39m\u001b[33m\"\u001b[39m\n\u001b[32m    276\u001b[39m             \u001b[33m\"\u001b[39m\u001b[33mYou can install matplotlib via \u001b[39m\u001b[38;5;130;01m\\n\u001b[39;00m\u001b[38;5;130;01m\\n\u001b[39;00m\u001b[33m   pip install matplotlib\u001b[39m\u001b[33m\"\u001b[39m\n\u001b[32m    277\u001b[39m         )\n\u001b[32m    279\u001b[39m     \u001b[38;5;28mself\u001b[39m.n_layers = n_layers\n\u001b[32m    280\u001b[39m     \u001b[38;5;28mself\u001b[39m.n_wires = \u001b[38;5;28mlen\u001b[39m(wire_map)\n",
      "\u001b[31mImportError\u001b[39m: Module matplotlib is required for ``MPLDrawer`` class. You can install matplotlib via \n\n   pip install matplotlib"
     ]
    }
   ],
   "source": [
    "fig, ax = qml.draw_mpl(sv)()\n",
    "plt.show()"
   ]
  },
  {
   "cell_type": "code",
   "execution_count": 21,
   "id": "3953e368",
   "metadata": {},
   "outputs": [],
   "source": [
    "dev2 = qml.device(\"default.qubit\", wires=2, shots=1000)\n",
    "@qml.qnode(dev2)\n",
    "def samples():\n",
    "    circuit()\n",
    "    return qml.sample(wires=[0, 1])\n"
   ]
  },
  {
   "cell_type": "code",
   "execution_count": 22,
   "id": "2cca97ba",
   "metadata": {},
   "outputs": [
    {
     "name": "stdout",
     "output_type": "stream",
     "text": [
      "Samples: [[0 0]\n",
      " [1 1]\n",
      " [0 0]\n",
      " [0 0]\n",
      " [1 1]\n",
      " [0 0]\n",
      " [1 1]\n",
      " [0 0]\n",
      " [0 0]\n",
      " [0 0]\n",
      " [0 0]\n",
      " [1 1]\n",
      " [0 0]\n",
      " [0 0]\n",
      " [1 1]\n",
      " [1 1]\n",
      " [1 1]\n",
      " [0 0]\n",
      " [1 1]\n",
      " [0 0]]\n"
     ]
    }
   ],
   "source": [
    "print(\"Samples:\", samples()[:20])"
   ]
  }
 ],
 "metadata": {
  "kernelspec": {
   "display_name": "plenv",
   "language": "python",
   "name": "python3"
  },
  "language_info": {
   "codemirror_mode": {
    "name": "ipython",
    "version": 3
   },
   "file_extension": ".py",
   "mimetype": "text/x-python",
   "name": "python",
   "nbconvert_exporter": "python",
   "pygments_lexer": "ipython3",
   "version": "3.12.10"
  }
 },
 "nbformat": 4,
 "nbformat_minor": 5
}
