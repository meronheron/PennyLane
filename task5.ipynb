{
 "cells": [
  {
   "cell_type": "code",
   "execution_count": null,
   "id": "d25f809a",
   "metadata": {},
   "outputs": [],
   "source": [
    "import pennylane as qml\n",
    "import numpy as np"
   ]
  },
  {
   "cell_type": "code",
   "execution_count": null,
   "id": "c441ef43",
   "metadata": {},
   "outputs": [],
   "source": [
    "dev = qml.device(\"default.qubit\", wires=2)\n",
    "dev1 = qml.device(\"default.qubit\", wires=2, shots=1000)\n",
    "def circuit():\n",
    "    qml.Hadamard(wires=0)\n",
    "    qml.CNOT(wires=[0, 1])"
   ]
  },
  {
   "cell_type": "code",
   "execution_count": null,
   "id": "fdc7634b",
   "metadata": {},
   "outputs": [],
   "source": [
    "@qml.qnode(dev)\n",
    "def get_probs():\n",
    "    circuit()\n",
    "    return qml.probs(wires=[0, 1])"
   ]
  },
  {
   "cell_type": "code",
   "execution_count": null,
   "id": "3b9aa5d0",
   "metadata": {},
   "outputs": [],
   "source": [
    "@qml.qnode(dev1)\n",
    "def samples():\n",
    "    circuit()\n",
    "    return qml.sample(wires=[0, 1])\n"
   ]
  },
  {
   "cell_type": "code",
   "execution_count": null,
   "id": "742380c4",
   "metadata": {},
   "outputs": [],
   "source": [
    "@qml.qnode(dev)\n",
    "def expectation():\n",
    "    circuit()\n",
    "    return qml.expval(qml.PauliZ(0))"
   ]
  },
  {
   "cell_type": "code",
   "execution_count": null,
   "id": "1eee0d09",
   "metadata": {},
   "outputs": [],
   "source": [
    "print(\"Probabilities:\", get_probs())"
   ]
  },
  {
   "cell_type": "code",
   "execution_count": null,
   "id": "6e303769",
   "metadata": {},
   "outputs": [],
   "source": [
    "print(\"Samples:\", samples()[:5])"
   ]
  },
  {
   "cell_type": "code",
   "execution_count": null,
   "id": "5d5d1b63",
   "metadata": {},
   "outputs": [],
   "source": [
    "print(\"Expectation ⟨Z⟩:\", expectation())"
   ]
  }
 ],
 "metadata": {
  "kernelspec": {
   "display_name": "plenv",
   "language": "python",
   "name": "python3"
  },
  "language_info": {
   "codemirror_mode": {
    "name": "ipython",
    "version": 3
   },
   "file_extension": ".py",
   "mimetype": "text/x-python",
   "name": "python",
   "nbconvert_exporter": "python",
   "pygments_lexer": "ipython3",
   "version": "3.12.10"
  }
 },
 "nbformat": 4,
 "nbformat_minor": 5
}
